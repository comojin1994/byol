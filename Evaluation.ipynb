{
 "cells": [
  {
   "cell_type": "markdown",
   "id": "45c90672",
   "metadata": {},
   "source": [
    "# Import libraries"
   ]
  },
  {
   "cell_type": "code",
   "execution_count": null,
   "id": "7e332b2e",
   "metadata": {},
   "outputs": [],
   "source": [
    "import os, yaml\n",
    "\n",
    "from datetime import datetime\n",
    "from easydict import EasyDict\n",
    "\n",
    "import torch\n",
    "import torch.nn as nn\n",
    "import torch.nn.functional as F\n",
    "import torch.backends.cudnn as cudnn\n",
    "from torch.utils.data import DataLoader\n",
    "\n",
    "from torchvision import transforms\n",
    "from torchvision.datasets import CIFAR10\n",
    "import torchvision.models as models\n",
    "\n",
    "from pytorch_lightning import seed_everything, Trainer\n",
    "\n",
    "from model.byol import ModelBase\n",
    "from model.litmodel import LitModelLinear\n",
    "from utils.setup_utils import get_device"
   ]
  },
  {
   "cell_type": "markdown",
   "id": "b8096011",
   "metadata": {},
   "source": [
    "# Configs"
   ]
  },
  {
   "cell_type": "code",
   "execution_count": null,
   "id": "6c5a9938",
   "metadata": {},
   "outputs": [],
   "source": [
    "with open(f'configs/linear_config.yaml') as file:\n",
    "    config = yaml.load(file, Loader=yaml.FullLoader)\n",
    "    args = EasyDict(config)\n",
    "    \n",
    "args.current_time = datetime.now().strftime('%Y%m%d')\n",
    "\n",
    "### Set Device ###\n",
    "if torch.cuda.is_available():\n",
    "    os.environ['CUDA_VISIBLE_DEVICES'] = args.GPU_NUM\n",
    "    \n",
    "args['device'] = get_device(args.GPU_NUM)\n",
    "cudnn.benchmark = True\n",
    "cudnn.fastest = True\n",
    "cudnn.deterministic = True\n",
    "\n",
    "args.lr = float(args.lr)\n",
    "args.weight_decay = float(args.weight_decay)\n",
    "\n",
    "### Set SEED ###\n",
    "seed_everything(args.SEED)"
   ]
  },
  {
   "cell_type": "markdown",
   "id": "474f453b",
   "metadata": {},
   "source": [
    "# Load data"
   ]
  },
  {
   "cell_type": "code",
   "execution_count": null,
   "id": "f07e9157",
   "metadata": {},
   "outputs": [],
   "source": [
    "normalize = transforms.Normalize(mean=[0.4914, 0.4822, 0.4465], std=[0.2023, 0.1994, 0.2010]) if args.cifar \\\n",
    "        else transforms.Normalize(mean=[0.485, 0.456, 0.406], std=[0.229, 0.224, 0.225])\n",
    "\n",
    "test_transform = transforms.Compose([\n",
    "        transforms.ToTensor(),\n",
    "        normalize\n",
    "    ])"
   ]
  },
  {
   "cell_type": "code",
   "execution_count": null,
   "id": "cfbc60b1",
   "metadata": {},
   "outputs": [],
   "source": [
    "test_data = CIFAR10(root=args.DATA_PATH, train=False, transform=test_transform, download=True)\n",
    "test_dataloader = DataLoader(test_data, batch_size=args.batch_size, shuffle=False, pin_memory=True, num_workers=6)\n",
    "\n",
    "args.num_classes = len(test_data.classes)"
   ]
  },
  {
   "cell_type": "markdown",
   "id": "62a68da2",
   "metadata": {},
   "source": [
    "# Load pre-trained model"
   ]
  },
  {
   "cell_type": "code",
   "execution_count": null,
   "id": "934b5ccf",
   "metadata": {},
   "outputs": [],
   "source": [
    "if args.cifar:\n",
    "    model = models.__dict__[args.arch]\n",
    "    model = ModelBase(model)\n",
    "else:\n",
    "    model = models.__dict__[args.arch]()\n",
    "model.fc = nn.Linear(model.fc.in_features, args.num_classes, bias=True)\n",
    "\n",
    "# load pre-trained model\n",
    "checkpoint = torch.load(args.MODEL_PATH, map_location=f'cpu')\n",
    "state_dict = checkpoint['state_dict']\n",
    "\n",
    "for k in list(state_dict.keys()):\n",
    "    if k.startswith('model.'):\n",
    "        state_dict[k[len('model.'):]] = state_dict[k]\n",
    "    del state_dict[k]\n",
    "\n",
    "model.load_state_dict(state_dict, strict=False)"
   ]
  },
  {
   "cell_type": "code",
   "execution_count": null,
   "id": "ca0f21d3",
   "metadata": {},
   "outputs": [],
   "source": [
    "model = LitModelLinear(model, args)"
   ]
  },
  {
   "cell_type": "markdown",
   "id": "2bb28010",
   "metadata": {},
   "source": [
    "# Evaluation"
   ]
  },
  {
   "cell_type": "code",
   "execution_count": null,
   "id": "e347390d",
   "metadata": {},
   "outputs": [],
   "source": [
    "trainer = Trainer(gpus=[int(args.GPU_NUM)])"
   ]
  },
  {
   "cell_type": "code",
   "execution_count": null,
   "id": "da8d6676",
   "metadata": {},
   "outputs": [],
   "source": [
    "trainer.test(model, dataloaders=test_dataloader)"
   ]
  },
  {
   "cell_type": "markdown",
   "id": "362a7c1a",
   "metadata": {},
   "source": [
    "# Feature visualization"
   ]
  },
  {
   "cell_type": "code",
   "execution_count": null,
   "id": "1d2171f3",
   "metadata": {},
   "outputs": [],
   "source": [
    "import numpy as np\n",
    "from sklearn.manifold import TSNE\n",
    "from umap import UMAP\n",
    "import matplotlib.pyplot as plt\n",
    "import matplotlib.cm as cm\n",
    "%matplotlib inline"
   ]
  },
  {
   "cell_type": "code",
   "execution_count": null,
   "id": "e05f7461",
   "metadata": {},
   "outputs": [],
   "source": [
    "memory_data = CIFAR10(root=args.DATA_PATH, train=True, transform=test_transform, download=True)\n",
    "memory_dataloader = DataLoader(memory_data, batch_size=args.batch_size, shuffle=False, pin_memory=True, num_workers=args.num_workers)"
   ]
  },
  {
   "cell_type": "code",
   "execution_count": null,
   "id": "c8c03ba8",
   "metadata": {},
   "outputs": [],
   "source": [
    "model.model.fc = nn.Identity()\n",
    "model = model.model\n",
    "model.cuda(int(args.GPU_NUM))"
   ]
  },
  {
   "cell_type": "code",
   "execution_count": null,
   "id": "f2a3d78f",
   "metadata": {},
   "outputs": [],
   "source": [
    "feature_bank = []\n",
    "\n",
    "with torch.no_grad():\n",
    "    for data, target in memory_dataloader:\n",
    "        feature = model(data.cuda(int(args.GPU_NUM), non_blocking=True))\n",
    "        feature = F.normalize(feature, dim=1)\n",
    "        feature_bank.append(feature)\n",
    "    feature_bank = torch.cat(feature_bank, dim=0).t().contiguous()\n",
    "    feature_labels = torch.tensor(memory_dataloader.dataset.targets, device=feature_bank.device)"
   ]
  },
  {
   "cell_type": "code",
   "execution_count": null,
   "id": "f57820e9",
   "metadata": {},
   "outputs": [],
   "source": [
    "feature_bank = feature_bank.detach().cpu().numpy().T\n",
    "feature_labels = feature_labels.detach().cpu().numpy()"
   ]
  },
  {
   "cell_type": "markdown",
   "id": "c323e7ce",
   "metadata": {},
   "source": [
    "### t-SNE"
   ]
  },
  {
   "cell_type": "code",
   "execution_count": null,
   "id": "dd4f2c71",
   "metadata": {},
   "outputs": [],
   "source": [
    "X_embedded_tsne = TSNE(n_components=2, learning_rate='auto', init='random').fit_transform(feature_bank)"
   ]
  },
  {
   "cell_type": "code",
   "execution_count": null,
   "id": "6d44b7f3",
   "metadata": {},
   "outputs": [],
   "source": [
    "colors = cm.rainbow(np.linspace(0, 1, args.num_classes))\n",
    "\n",
    "plt.figure(figsize=(10, 10))\n",
    "for idx, color in zip(range(args.num_classes), colors):\n",
    "    indices = np.where(feature_labels == idx)\n",
    "    plt.scatter(X_embedded_tsne[indices, 0], X_embedded_tsne[indices, 1], color=color, alpha=0.1, label=f'{idx}')\n",
    "plt.legend()\n",
    "plt.show()"
   ]
  },
  {
   "cell_type": "markdown",
   "id": "425068f4",
   "metadata": {},
   "source": [
    "### UMAP"
   ]
  },
  {
   "cell_type": "code",
   "execution_count": null,
   "id": "49e89419",
   "metadata": {},
   "outputs": [],
   "source": [
    "X_embedded_umap = UMAP(n_components=2).fit_transform(feature_bank)"
   ]
  },
  {
   "cell_type": "code",
   "execution_count": null,
   "id": "e95465b3",
   "metadata": {},
   "outputs": [],
   "source": [
    "colors = cm.rainbow(np.linspace(0, 1, args.num_classes))\n",
    "\n",
    "plt.figure(figsize=(10, 10))\n",
    "for idx, color in zip(range(args.num_classes), colors):\n",
    "    indices = np.where(feature_labels == idx)\n",
    "    plt.scatter(X_embedded_umap[indices, 0], X_embedded_umap[indices, 1], color=color, alpha=0.1, label=f'{idx}')\n",
    "plt.legend()\n",
    "plt.show()"
   ]
  },
  {
   "cell_type": "markdown",
   "id": "875249aa",
   "metadata": {},
   "source": [
    "### Singular value plot"
   ]
  },
  {
   "cell_type": "code",
   "execution_count": null,
   "id": "527064c9",
   "metadata": {},
   "outputs": [],
   "source": [
    "from scipy.linalg import svd"
   ]
  },
  {
   "cell_type": "code",
   "execution_count": null,
   "id": "92cf1f19",
   "metadata": {},
   "outputs": [],
   "source": [
    "C = np.cov(feature_bank.T)\n",
    "_, s, _ = svd(C)\n",
    "s.shape"
   ]
  },
  {
   "cell_type": "code",
   "execution_count": null,
   "id": "8b59e954",
   "metadata": {},
   "outputs": [],
   "source": [
    "plt.figure(figsize=(10, 5))\n",
    "\n",
    "plt.subplot(121)\n",
    "plt.plot(s, label='origin scale')\n",
    "plt.legend()\n",
    "\n",
    "plt.subplot(122)\n",
    "plt.plot(np.log(s), label='log scale')\n",
    "plt.legend()\n",
    "\n",
    "plt.show()"
   ]
  },
  {
   "cell_type": "code",
   "execution_count": null,
   "id": "21ebf469",
   "metadata": {},
   "outputs": [],
   "source": []
  }
 ],
 "metadata": {
  "kernelspec": {
   "display_name": "Python 3 (ipykernel)",
   "language": "python",
   "name": "python3"
  },
  "language_info": {
   "codemirror_mode": {
    "name": "ipython",
    "version": 3
   },
   "file_extension": ".py",
   "mimetype": "text/x-python",
   "name": "python",
   "nbconvert_exporter": "python",
   "pygments_lexer": "ipython3",
   "version": "3.7.11"
  }
 },
 "nbformat": 4,
 "nbformat_minor": 5
}
